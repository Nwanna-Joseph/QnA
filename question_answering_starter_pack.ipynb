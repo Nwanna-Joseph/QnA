{
  "cells": [
    {
      "cell_type": "markdown",
      "metadata": {
        "id": "view-in-github",
        "colab_type": "text"
      },
      "source": [
        "<a href=\"https://colab.research.google.com/github/Nwanna-Joseph/QnA/blob/main/question_answering_starter_pack.ipynb\" target=\"_parent\"><img src=\"https://colab.research.google.com/assets/colab-badge.svg\" alt=\"Open In Colab\"/></a>"
      ]
    },
    {
      "cell_type": "code",
      "source": [
        "!rm dev.csv __MACOSX/._dev.csv test.csv __MACOSX/._test.csv train.csv __MACOSX/._train.csv\n",
        "!wget -O datazip.zip https://github.com/Nwanna-Joseph/QnA/blob/main/qna-data.zip?raw=true\n",
        "!unzip datazip.zip\n",
        "!rm datazip.zip"
      ],
      "metadata": {
        "colab": {
          "base_uri": "https://localhost:8080/"
        },
        "id": "riL902_zWdWf",
        "outputId": "811270df-2d67-4e11-957e-e7a64ec2211b"
      },
      "execution_count": 8,
      "outputs": [
        {
          "output_type": "stream",
          "name": "stdout",
          "text": [
            "--2022-05-18 23:10:45--  https://github.com/Nwanna-Joseph/QnA/blob/main/qna-data.zip?raw=true\n",
            "Resolving github.com (github.com)... 13.114.40.48\n",
            "Connecting to github.com (github.com)|13.114.40.48|:443... connected.\n",
            "HTTP request sent, awaiting response... 302 Found\n",
            "Location: https://github.com/Nwanna-Joseph/QnA/raw/main/qna-data.zip [following]\n",
            "--2022-05-18 23:10:45--  https://github.com/Nwanna-Joseph/QnA/raw/main/qna-data.zip\n",
            "Reusing existing connection to github.com:443.\n",
            "HTTP request sent, awaiting response... 302 Found\n",
            "Location: https://raw.githubusercontent.com/Nwanna-Joseph/QnA/main/qna-data.zip [following]\n",
            "--2022-05-18 23:10:46--  https://raw.githubusercontent.com/Nwanna-Joseph/QnA/main/qna-data.zip\n",
            "Resolving raw.githubusercontent.com (raw.githubusercontent.com)... 185.199.110.133, 185.199.111.133, 185.199.108.133, ...\n",
            "Connecting to raw.githubusercontent.com (raw.githubusercontent.com)|185.199.110.133|:443... connected.\n",
            "HTTP request sent, awaiting response... 200 OK\n",
            "Length: 1639861 (1.6M) [application/zip]\n",
            "Saving to: ‘datazip.zip’\n",
            "\n",
            "datazip.zip         100%[===================>]   1.56M  --.-KB/s    in 0.07s   \n",
            "\n",
            "2022-05-18 23:10:46 (23.4 MB/s) - ‘datazip.zip’ saved [1639861/1639861]\n",
            "\n",
            "Archive:  datazip.zip\n",
            "  inflating: dev.csv                 \n",
            "  inflating: __MACOSX/._dev.csv      \n",
            "  inflating: test.csv                \n",
            "  inflating: __MACOSX/._test.csv     \n",
            "  inflating: train.csv               \n",
            "  inflating: __MACOSX/._train.csv    \n"
          ]
        }
      ]
    },
    {
      "cell_type": "code",
      "execution_count": 27,
      "metadata": {
        "id": "eglo0jMAGLKD"
      },
      "outputs": [],
      "source": [
        "\"\"\"\n",
        "LOAD DATA\n",
        "\"\"\"\n",
        "\n",
        "import numpy as np \n",
        "import pandas as pd \n",
        "import json\n",
        "\n",
        "\n",
        "train_df = pd.read_csv('/content/train.csv', usecols=['item_id','question','review','human_ans_spans']  )\n",
        "test_df = pd.read_csv('/content/test.csv', usecols=['item_id','question','review','human_ans_spans']  )\n",
        "# sub_df = pd.read_csv('/kaggle/input/tweet-sentiment-extraction/sample_submission.csv')\n",
        "\n",
        "train = np.array(train_df)\n",
        "test = np.array(test_df)\n",
        "\n",
        "!mkdir -p data\n",
        "\n",
        "\"\"\"\n",
        "SETTINGS\n",
        "\"\"\"\n",
        "\n",
        "use_cuda = True # whether to use GPU or not"
      ]
    },
    {
      "cell_type": "code",
      "execution_count": 36,
      "metadata": {
        "colab": {
          "base_uri": "https://localhost:8080/",
          "height": 424
        },
        "id": "ZY91M735GLKF",
        "outputId": "ed4a7315-0db5-4115-ee33-23429b3527a0"
      },
      "outputs": [
        {
          "output_type": "execute_result",
          "data": {
            "text/plain": [
              "                     item_id                          question  \\\n",
              "0     Yl2TN9c23ZGLUBSD9ks5Uw        How was the service staff?   \n",
              "1     RtUvSWO_UZ8V3Wpj0n077w                     How is staff?   \n",
              "2     N93EYZy9R0sdlEvubu94ig            Is the fill delicious?   \n",
              "3     Pthcdg09sHQ9M9Tj5P9gfQ         Is this place big enough?   \n",
              "4     nqTvE7ivdU23oUWdI01tOA                What is the price?   \n",
              "...                      ...                               ...   \n",
              "2556  a8pmtlVKf7NiSLI-4KejIw                     How is music?   \n",
              "2557  tCjlXROlbcaGiBRfU2jaiw                 What about place?   \n",
              "2558  rO3lZpVSoRMhhd0AEJBjlg   What is the quality of portion?   \n",
              "2559  O1TvPrgkK2bUo5O5aSZ7lw      How well served is the dish?   \n",
              "2560  iGEvDk6hsizigmXhDKs2Vg  Where do they serve good dishes?   \n",
              "\n",
              "                                                 review  \\\n",
              "0     Came here on a Tuesday evening with a party of...   \n",
              "1     A fun place to go with a few friends.  The wai...   \n",
              "2     I think the best way to describe this place is...   \n",
              "3     I've been here a few times and seems to be a h...   \n",
              "4     This restaurant is truly one of those places w...   \n",
              "...                                                 ...   \n",
              "2556  We visited this place with visiting family fro...   \n",
              "2557  Absolutely gorgeous restaurant! This is your s...   \n",
              "2558  After living in Seaton Village/Koreatown South...   \n",
              "2559  This is the real deal.  Amazing variety of dim...   \n",
              "2560  For first timers to Seven Lives Tacos, this is...   \n",
              "\n",
              "                     human_ans_spans  \n",
              "0                     ANSWERNOTFOUND  \n",
              "1                     ANSWERNOTFOUND  \n",
              "2                     ANSWERNOTFOUND  \n",
              "3                     ANSWERNOTFOUND  \n",
              "4                               $ 11  \n",
              "...                              ...  \n",
              "2556                  ANSWERNOTFOUND  \n",
              "2557  Absolutely gorgeous restaurant  \n",
              "2558                  ANSWERNOTFOUND  \n",
              "2559                       real deal  \n",
              "2560                  ANSWERNOTFOUND  \n",
              "\n",
              "[2561 rows x 4 columns]"
            ],
            "text/html": [
              "\n",
              "  <div id=\"df-b8b758d1-d8c8-45f2-853f-c17d80ef7274\">\n",
              "    <div class=\"colab-df-container\">\n",
              "      <div>\n",
              "<style scoped>\n",
              "    .dataframe tbody tr th:only-of-type {\n",
              "        vertical-align: middle;\n",
              "    }\n",
              "\n",
              "    .dataframe tbody tr th {\n",
              "        vertical-align: top;\n",
              "    }\n",
              "\n",
              "    .dataframe thead th {\n",
              "        text-align: right;\n",
              "    }\n",
              "</style>\n",
              "<table border=\"1\" class=\"dataframe\">\n",
              "  <thead>\n",
              "    <tr style=\"text-align: right;\">\n",
              "      <th></th>\n",
              "      <th>item_id</th>\n",
              "      <th>question</th>\n",
              "      <th>review</th>\n",
              "      <th>human_ans_spans</th>\n",
              "    </tr>\n",
              "  </thead>\n",
              "  <tbody>\n",
              "    <tr>\n",
              "      <th>0</th>\n",
              "      <td>Yl2TN9c23ZGLUBSD9ks5Uw</td>\n",
              "      <td>How was the service staff?</td>\n",
              "      <td>Came here on a Tuesday evening with a party of...</td>\n",
              "      <td>ANSWERNOTFOUND</td>\n",
              "    </tr>\n",
              "    <tr>\n",
              "      <th>1</th>\n",
              "      <td>RtUvSWO_UZ8V3Wpj0n077w</td>\n",
              "      <td>How is staff?</td>\n",
              "      <td>A fun place to go with a few friends.  The wai...</td>\n",
              "      <td>ANSWERNOTFOUND</td>\n",
              "    </tr>\n",
              "    <tr>\n",
              "      <th>2</th>\n",
              "      <td>N93EYZy9R0sdlEvubu94ig</td>\n",
              "      <td>Is the fill delicious?</td>\n",
              "      <td>I think the best way to describe this place is...</td>\n",
              "      <td>ANSWERNOTFOUND</td>\n",
              "    </tr>\n",
              "    <tr>\n",
              "      <th>3</th>\n",
              "      <td>Pthcdg09sHQ9M9Tj5P9gfQ</td>\n",
              "      <td>Is this place big enough?</td>\n",
              "      <td>I've been here a few times and seems to be a h...</td>\n",
              "      <td>ANSWERNOTFOUND</td>\n",
              "    </tr>\n",
              "    <tr>\n",
              "      <th>4</th>\n",
              "      <td>nqTvE7ivdU23oUWdI01tOA</td>\n",
              "      <td>What is the price?</td>\n",
              "      <td>This restaurant is truly one of those places w...</td>\n",
              "      <td>$ 11</td>\n",
              "    </tr>\n",
              "    <tr>\n",
              "      <th>...</th>\n",
              "      <td>...</td>\n",
              "      <td>...</td>\n",
              "      <td>...</td>\n",
              "      <td>...</td>\n",
              "    </tr>\n",
              "    <tr>\n",
              "      <th>2556</th>\n",
              "      <td>a8pmtlVKf7NiSLI-4KejIw</td>\n",
              "      <td>How is music?</td>\n",
              "      <td>We visited this place with visiting family fro...</td>\n",
              "      <td>ANSWERNOTFOUND</td>\n",
              "    </tr>\n",
              "    <tr>\n",
              "      <th>2557</th>\n",
              "      <td>tCjlXROlbcaGiBRfU2jaiw</td>\n",
              "      <td>What about place?</td>\n",
              "      <td>Absolutely gorgeous restaurant! This is your s...</td>\n",
              "      <td>Absolutely gorgeous restaurant</td>\n",
              "    </tr>\n",
              "    <tr>\n",
              "      <th>2558</th>\n",
              "      <td>rO3lZpVSoRMhhd0AEJBjlg</td>\n",
              "      <td>What is the quality of portion?</td>\n",
              "      <td>After living in Seaton Village/Koreatown South...</td>\n",
              "      <td>ANSWERNOTFOUND</td>\n",
              "    </tr>\n",
              "    <tr>\n",
              "      <th>2559</th>\n",
              "      <td>O1TvPrgkK2bUo5O5aSZ7lw</td>\n",
              "      <td>How well served is the dish?</td>\n",
              "      <td>This is the real deal.  Amazing variety of dim...</td>\n",
              "      <td>real deal</td>\n",
              "    </tr>\n",
              "    <tr>\n",
              "      <th>2560</th>\n",
              "      <td>iGEvDk6hsizigmXhDKs2Vg</td>\n",
              "      <td>Where do they serve good dishes?</td>\n",
              "      <td>For first timers to Seven Lives Tacos, this is...</td>\n",
              "      <td>ANSWERNOTFOUND</td>\n",
              "    </tr>\n",
              "  </tbody>\n",
              "</table>\n",
              "<p>2561 rows × 4 columns</p>\n",
              "</div>\n",
              "      <button class=\"colab-df-convert\" onclick=\"convertToInteractive('df-b8b758d1-d8c8-45f2-853f-c17d80ef7274')\"\n",
              "              title=\"Convert this dataframe to an interactive table.\"\n",
              "              style=\"display:none;\">\n",
              "        \n",
              "  <svg xmlns=\"http://www.w3.org/2000/svg\" height=\"24px\"viewBox=\"0 0 24 24\"\n",
              "       width=\"24px\">\n",
              "    <path d=\"M0 0h24v24H0V0z\" fill=\"none\"/>\n",
              "    <path d=\"M18.56 5.44l.94 2.06.94-2.06 2.06-.94-2.06-.94-.94-2.06-.94 2.06-2.06.94zm-11 1L8.5 8.5l.94-2.06 2.06-.94-2.06-.94L8.5 2.5l-.94 2.06-2.06.94zm10 10l.94 2.06.94-2.06 2.06-.94-2.06-.94-.94-2.06-.94 2.06-2.06.94z\"/><path d=\"M17.41 7.96l-1.37-1.37c-.4-.4-.92-.59-1.43-.59-.52 0-1.04.2-1.43.59L10.3 9.45l-7.72 7.72c-.78.78-.78 2.05 0 2.83L4 21.41c.39.39.9.59 1.41.59.51 0 1.02-.2 1.41-.59l7.78-7.78 2.81-2.81c.8-.78.8-2.07 0-2.86zM5.41 20L4 18.59l7.72-7.72 1.47 1.35L5.41 20z\"/>\n",
              "  </svg>\n",
              "      </button>\n",
              "      \n",
              "  <style>\n",
              "    .colab-df-container {\n",
              "      display:flex;\n",
              "      flex-wrap:wrap;\n",
              "      gap: 12px;\n",
              "    }\n",
              "\n",
              "    .colab-df-convert {\n",
              "      background-color: #E8F0FE;\n",
              "      border: none;\n",
              "      border-radius: 50%;\n",
              "      cursor: pointer;\n",
              "      display: none;\n",
              "      fill: #1967D2;\n",
              "      height: 32px;\n",
              "      padding: 0 0 0 0;\n",
              "      width: 32px;\n",
              "    }\n",
              "\n",
              "    .colab-df-convert:hover {\n",
              "      background-color: #E2EBFA;\n",
              "      box-shadow: 0px 1px 2px rgba(60, 64, 67, 0.3), 0px 1px 3px 1px rgba(60, 64, 67, 0.15);\n",
              "      fill: #174EA6;\n",
              "    }\n",
              "\n",
              "    [theme=dark] .colab-df-convert {\n",
              "      background-color: #3B4455;\n",
              "      fill: #D2E3FC;\n",
              "    }\n",
              "\n",
              "    [theme=dark] .colab-df-convert:hover {\n",
              "      background-color: #434B5C;\n",
              "      box-shadow: 0px 1px 3px 1px rgba(0, 0, 0, 0.15);\n",
              "      filter: drop-shadow(0px 1px 2px rgba(0, 0, 0, 0.3));\n",
              "      fill: #FFFFFF;\n",
              "    }\n",
              "  </style>\n",
              "\n",
              "      <script>\n",
              "        const buttonEl =\n",
              "          document.querySelector('#df-b8b758d1-d8c8-45f2-853f-c17d80ef7274 button.colab-df-convert');\n",
              "        buttonEl.style.display =\n",
              "          google.colab.kernel.accessAllowed ? 'block' : 'none';\n",
              "\n",
              "        async function convertToInteractive(key) {\n",
              "          const element = document.querySelector('#df-b8b758d1-d8c8-45f2-853f-c17d80ef7274');\n",
              "          const dataTable =\n",
              "            await google.colab.kernel.invokeFunction('convertToInteractive',\n",
              "                                                     [key], {});\n",
              "          if (!dataTable) return;\n",
              "\n",
              "          const docLinkHtml = 'Like what you see? Visit the ' +\n",
              "            '<a target=\"_blank\" href=https://colab.research.google.com/notebooks/data_table.ipynb>data table notebook</a>'\n",
              "            + ' to learn more about interactive tables.';\n",
              "          element.innerHTML = '';\n",
              "          dataTable['output_type'] = 'display_data';\n",
              "          await google.colab.output.renderOutput(dataTable, element);\n",
              "          const docLink = document.createElement('div');\n",
              "          docLink.innerHTML = docLinkHtml;\n",
              "          element.appendChild(docLink);\n",
              "        }\n",
              "      </script>\n",
              "    </div>\n",
              "  </div>\n",
              "  "
            ]
          },
          "metadata": {},
          "execution_count": 36
        }
      ],
      "source": [
        "\n",
        "train_df.head(10000)"
      ]
    },
    {
      "cell_type": "markdown",
      "metadata": {
        "id": "pBRF8uBkGLKF"
      },
      "source": [
        "### Prepare data in QA format\n",
        "\n",
        "Example-format:\n",
        "\n",
        "```\n",
        "train_data = [\n",
        "    {\n",
        "        'context': \"This tweet sentiment extraction challenge is great\",\n",
        "        'qas': [\n",
        "            {\n",
        "                'id': \"00001\",\n",
        "                'question': \"positive\",\n",
        "                'answers': [\n",
        "                    {\n",
        "                        'text': \"is great\",\n",
        "                        'answer_start': 43\n",
        "                    }\n",
        "                ]\n",
        "            }\n",
        "        ]\n",
        "    }\n",
        "    ]\n",
        "```"
      ]
    },
    {
      "cell_type": "code",
      "execution_count": 38,
      "metadata": {
        "_cell_guid": "b1076dfc-b9ad-4769-8c92-a6c4dae69d19",
        "_uuid": "8f2839f25d086af736a60e9eeb907d3b93b6e0e5",
        "colab": {
          "base_uri": "https://localhost:8080/"
        },
        "id": "1vSbyy6mGLKG",
        "outputId": "7134b73b-ad8f-405c-823b-b18898b4b544"
      },
      "outputs": [
        {
          "output_type": "stream",
          "name": "stdout",
          "text": [
            "CPU times: user 53 ms, sys: 1.16 ms, total: 54.1 ms\n",
            "Wall time: 54.3 ms\n"
          ]
        }
      ],
      "source": [
        "%%time\n",
        "\n",
        "\"\"\"\n",
        "Prepare training data in QA-compatible format\n",
        "\"\"\"\n",
        "\n",
        "# Adpated from https://www.kaggle.com/cheongwoongkang/roberta-baseline-starter-simple-postprocessing\n",
        "\n",
        "def find_all(input_str, search_str):\n",
        "    l1 = []\n",
        "    length = len(input_str)\n",
        "    index = 0\n",
        "    while index < length:\n",
        "        i = input_str.find(search_str, index)\n",
        "        if i == -1:\n",
        "            return l1\n",
        "        l1.append(i)\n",
        "        index = i + 1\n",
        "    return l1\n",
        "\n",
        "def do_qa_train(train):\n",
        "\n",
        "    output = []\n",
        "    for line in train:\n",
        "        context = line[1]\n",
        "\n",
        "        qas = []\n",
        "        question = line[-1]\n",
        "        qid = line[0]\n",
        "        answers = []\n",
        "        answer = line[2]\n",
        "        if type(answer) != str or type(context) != str or type(question) != str:\n",
        "            print(context, type(context))\n",
        "            print(answer, type(answer))\n",
        "            print(question, type(question))\n",
        "            continue\n",
        "        answer_starts = find_all(context, answer)\n",
        "        for answer_start in answer_starts:\n",
        "            answers.append({'answer_start': answer_start, 'text': answer.lower()})\n",
        "            break\n",
        "        qas.append({'question': question, 'id': qid, 'is_impossible': False, 'answers': answers})\n",
        "\n",
        "        output.append({'context': context.lower(), 'qas': qas})\n",
        "        \n",
        "    return output\n",
        "\n",
        "qa_train = do_qa_train(train)\n",
        "\n",
        "with open('data/train.json', 'w') as outfile:\n",
        "    json.dump(qa_train, outfile)"
      ]
    },
    {
      "cell_type": "code",
      "execution_count": 37,
      "metadata": {
        "_cell_guid": "79c7e3d0-c299-4dcb-8224-4455121ee9b0",
        "_uuid": "d629ff2d2480ee46fbb7e2d37f6b5fab8052498a",
        "colab": {
          "base_uri": "https://localhost:8080/"
        },
        "id": "REIg8sK8GLKG",
        "outputId": "f56d2c58-84c9-4fe3-bf82-500444c15f46"
      },
      "outputs": [
        {
          "output_type": "stream",
          "name": "stdout",
          "text": [
            "CPU times: user 18 ms, sys: 0 ns, total: 18 ms\n",
            "Wall time: 19.7 ms\n"
          ]
        }
      ],
      "source": [
        "%%time\n",
        "\n",
        "\"\"\"\n",
        "Prepare testing data in QA-compatible format\n",
        "\"\"\"\n",
        "\n",
        "def do_qa_test(test):\n",
        "    output = []\n",
        "    for line in test:\n",
        "        context = line[1]\n",
        "        qas = []\n",
        "        question = line[-1]\n",
        "        qid = line[0]\n",
        "        if type(context) != str or type(question) != str:\n",
        "            print(context, type(context))\n",
        "            # print(answer, type(answer))\n",
        "            print(question, type(question))\n",
        "            continue\n",
        "        answers = []\n",
        "        answers.append({'answer_start': 1000000, 'text': '__None__'})\n",
        "        qas.append({'question': question, 'id': qid, 'is_impossible': False, 'answers': answers})\n",
        "        output.append({'context': context.lower(), 'qas': qas})\n",
        "    return output\n",
        "\n",
        "qa_test = do_qa_test(test)\n",
        "\n",
        "with open('data/test.json', 'w') as outfile:\n",
        "    json.dump(qa_test, outfile)"
      ]
    },
    {
      "cell_type": "markdown",
      "metadata": {
        "id": "1KeaBTfsGLKH"
      },
      "source": [
        "Install [simple-transformers](https://github.com/ThilinaRajapakse/simpletransformers), a tool to train and test transformers model easily."
      ]
    },
    {
      "cell_type": "code",
      "execution_count": null,
      "metadata": {
        "id": "cFNVmwggGLKH"
      },
      "outputs": [],
      "source": [
        "!pip install '/kaggle/input/simple-transformers-pypi/seqeval-0.0.12-py3-none-any.whl' -q\n",
        "!pip install '/kaggle/input/simple-transformers-pypi/simpletransformers-0.22.1-py3-none-any.whl' -q"
      ]
    },
    {
      "cell_type": "markdown",
      "metadata": {
        "id": "1B9dvI4FGLKI"
      },
      "source": [
        "### Train model\n",
        "\n",
        "Train the `distilbert-base-uncased-distilled-squad` model"
      ]
    },
    {
      "cell_type": "code",
      "execution_count": null,
      "metadata": {
        "id": "CCuVLvb4GLKI"
      },
      "outputs": [],
      "source": [
        "%%time\n",
        "\n",
        "\n",
        "from simpletransformers.question_answering import QuestionAnsweringModel\n",
        "\n",
        "MODEL_PATH = '/kaggle/input/transformers-pretrained-distilbert/distilbert-base-uncased-distilled-squad/'\n",
        "\n",
        "# Create the QuestionAnsweringModel\n",
        "model = QuestionAnsweringModel('distilbert', \n",
        "                               MODEL_PATH, \n",
        "                               args={'reprocess_input_data': True,\n",
        "                                     'overwrite_output_dir': True,\n",
        "                                     'learning_rate': 5e-5,\n",
        "                                     'num_train_epochs': 3,\n",
        "                                     'max_seq_length': 192,\n",
        "                                     'doc_stride': 64,\n",
        "                                     'fp16': False,\n",
        "                                    },\n",
        "                              use_cuda=use_cuda)\n",
        "\n",
        "model.train_model('data/train.json')"
      ]
    },
    {
      "cell_type": "markdown",
      "metadata": {
        "id": "QwwwCzacGLKI"
      },
      "source": [
        "### Submission"
      ]
    },
    {
      "cell_type": "code",
      "execution_count": null,
      "metadata": {
        "id": "gRN1uE_yGLKJ"
      },
      "outputs": [],
      "source": [
        "%%time\n",
        "\n",
        "predictions = model.predict(qa_test)\n",
        "predictions_df = pd.DataFrame.from_dict(predictions)\n",
        "\n",
        "sub_df['selected_text'] = predictions_df['answer']\n",
        "\n",
        "sub_df.to_csv('submission.csv', index=False)\n",
        "\n",
        "print(\"File submitted successfully.\")"
      ]
    }
  ],
  "metadata": {
    "kernelspec": {
      "display_name": "Python 3",
      "language": "python",
      "name": "python3"
    },
    "language_info": {
      "codemirror_mode": {
        "name": "ipython",
        "version": 3
      },
      "file_extension": ".py",
      "mimetype": "text/x-python",
      "name": "python",
      "nbconvert_exporter": "python",
      "pygments_lexer": "ipython3",
      "version": "3.6.6"
    },
    "colab": {
      "name": "question-answering-starter-pack.ipynb",
      "provenance": [],
      "include_colab_link": true
    }
  },
  "nbformat": 4,
  "nbformat_minor": 0
}